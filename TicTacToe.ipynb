{
  "cells": [
    {
      "cell_type": "code",
      "execution_count": 27,
      "metadata": {
        "colab": {
          "base_uri": "https://localhost:8080/"
        },
        "id": "ojir9wNCkGGg",
        "outputId": "3e7b74bc-2cc3-4906-884f-6239b4f8283c"
      },
      "outputs": [
        {
          "output_type": "stream",
          "name": "stdout",
          "text": [
            "  |   |  \n",
            "-----------\n",
            "  |   |  \n",
            "-----------\n",
            "  |   |  \n"
          ]
        }
      ],
      "source": [
        "import math\n",
        "board = [None] * 9\n",
        "\n",
        "def print_board(board):\n",
        "    for i in range(3):\n",
        "      print(\" | \".join([board[j] if board[j] is not None else \" \" for j in range(i*3, (i+1)*3)]))\n",
        "      if i<2:\n",
        "         print(\"-----------\")\n",
        "print_board(board)"
      ]
    },
    {
      "cell_type": "code",
      "execution_count": 23,
      "metadata": {
        "id": "yxjyezdglX-r"
      },
      "outputs": [],
      "source": [
        "def player_move(board, position, player_name):\n",
        "  index = position - 1\n",
        "  if board[index] is None:\n",
        "    board[index] = 'X'\n",
        "    return True\n",
        "  else:\n",
        "    return False\n"
      ]
    },
    {
      "cell_type": "code",
      "execution_count": 24,
      "metadata": {
        "id": "vZi9mxjel1VO"
      },
      "outputs": [],
      "source": [
        "def minimax(board, depth, is_maximizing, alpha, beta):\n",
        "  scores = {'X': -1, 'O': 1, 'draw': 0}\n",
        "  result = check_winner(board)\n",
        "  if result is not None:\n",
        "    return scores[result]\n",
        "\n",
        "  if is_maximizing:\n",
        "    best_score = -math.inf\n",
        "    for i in range(9):\n",
        "      if board[i] is None:\n",
        "        board[i] = 'O'\n",
        "        score = minimax(board, depth + 1, False, alpha, beta)\n",
        "        board[i] = None\n",
        "        best_score = max(score, best_score)\n",
        "        alpha = max(alpha,score)\n",
        "        if beta <= alpha:\n",
        "          break\n",
        "    return best_score\n",
        "  else:\n",
        "    best_score = math.inf\n",
        "    for i in range(9):\n",
        "      if board[i] is None:\n",
        "        board[i] = 'X'\n",
        "        score = minimax(board, depth + 1, True, alpha, beta)\n",
        "        board[i] = None\n",
        "        best_score = min(score, best_score)\n",
        "        beta = min(score, best_score)\n",
        "        if beta <= alpha:\n",
        "          break\n",
        "    return best_score\n",
        "\n",
        "def siri_move(board):\n",
        "  best_score = -math.inf\n",
        "  best_move = None\n",
        "  for i in range(9):\n",
        "    if board[i] is None:\n",
        "      board[i] = 'O'\n",
        "      score = minimax(board, 0, False, -math.inf, math.inf)\n",
        "      board[i] = None\n",
        "      if score > best_score:\n",
        "        best_score = score\n",
        "        best_move = i\n",
        "  board[best_move] = 'O'"
      ]
    },
    {
      "cell_type": "code",
      "execution_count": 25,
      "metadata": {
        "id": "5apFGiGzqiIv"
      },
      "outputs": [],
      "source": [
        "def check_winner(board):\n",
        "  win_conditions = [\n",
        "      [0, 1, 2], [3, 4, 5], [6, 7, 8],\n",
        "      [0, 3, 6], [1, 4, 7], [2, 5, 8],\n",
        "      [0, 4, 8], [2, 4, 6]\n",
        "  ]\n",
        "  for condition in win_conditions:\n",
        "    if board[condition[0]] == board[condition[1]] == board[condition[2]] and board[condition[0]] is not None:\n",
        "      return board[condition[0]]\n",
        "  if all(cell is not None for cell in board):\n",
        "    return 'draw'\n",
        "  return None"
      ]
    },
    {
      "cell_type": "code",
      "execution_count": 26,
      "metadata": {
        "colab": {
          "base_uri": "https://localhost:8080/"
        },
        "id": "sMhQMOKbro2V",
        "outputId": "c6138181-cdc7-4de9-f944-3baca55d0f21"
      },
      "outputs": [
        {
          "output_type": "stream",
          "name": "stdout",
          "text": [
            "Enter your name: Pranakya\n",
            "  |   |  \n",
            "-----------\n",
            "  |   |  \n",
            "-----------\n",
            "  |   |  \n",
            "Pranakya, enter your move (1-9):9\n",
            "  |   |  \n",
            "-----------\n",
            "  | O |  \n",
            "-----------\n",
            "  |   | X\n",
            "Pranakya, enter your move (1-9):6\n",
            "  |   | O\n",
            "-----------\n",
            "  | O | X\n",
            "-----------\n",
            "  |   | X\n",
            "Pranakya, enter your move (1-9):7\n",
            "  |   | O\n",
            "-----------\n",
            "  | O | X\n",
            "-----------\n",
            "X | O | X\n",
            "Pranakya, enter your move (1-9):1\n",
            "X | O | O\n",
            "-----------\n",
            "  | O | X\n",
            "-----------\n",
            "X | O | X\n",
            "Siri wins! \n"
          ]
        }
      ],
      "source": [
        "def play_game():\n",
        "  player_name = input(\"Enter your name: \")\n",
        "  while True:\n",
        "\n",
        "    print_board(board)\n",
        "    position = int(input(f\"{player_name}, enter your move (1-9):\"))\n",
        "    if 1 <= position <=9:\n",
        "      if player_move(board, position, player_name):\n",
        "         if check_winner(board) is not None:\n",
        "           break\n",
        "         siri_move(board)\n",
        "         if check_winner(board) is not None:\n",
        "           break\n",
        "      else:\n",
        "        print(\"Invalid move. Try again.\")\n",
        "    else:\n",
        "      print(\"Invalid input. Enter a number between 1 and 9\")\n",
        "\n",
        "  print_board(board)\n",
        "  if check_winner(board) == 'X':\n",
        "    print(f\"{player_name}, you win! \")\n",
        "  elif check_winner(board) == 'O':\n",
        "    print(\"Siri wins! \")\n",
        "  else:\n",
        "    print(\"It's a draw! \")\n",
        "\n",
        "play_game()"
      ]
    },
    {
      "cell_type": "code",
      "source": [],
      "metadata": {
        "id": "gzDkWXNAIhir"
      },
      "execution_count": null,
      "outputs": []
    }
  ],
  "metadata": {
    "colab": {
      "provenance": []
    },
    "kernelspec": {
      "display_name": "Python 3",
      "name": "python3"
    },
    "language_info": {
      "name": "python"
    }
  },
  "nbformat": 4,
  "nbformat_minor": 0
}